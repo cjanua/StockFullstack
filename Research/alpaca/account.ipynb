{
 "cells": [
  {
   "cell_type": "code",
   "execution_count": 1,
   "metadata": {},
   "outputs": [
    {
     "name": "stdout",
     "output_type": "stream",
     "text": [
      "AKEJXL92XGC24FIGRJJ4\n"
     ]
    },
    {
     "data": {
      "text/plain": [
       "{   'account_blocked': False,\n",
       "    'account_number': '941948590',\n",
       "    'accrued_fees': '0',\n",
       "    'buying_power': '105.48',\n",
       "    'cash': '105.48',\n",
       "    'created_at': datetime.datetime(2022, 7, 22, 3, 10, 18, 740718, tzinfo=TzInfo(UTC)),\n",
       "    'crypto_status': <AccountStatus.ONBOARDING: 'ONBOARDING'>,\n",
       "    'currency': 'USD',\n",
       "    'daytrade_count': 0,\n",
       "    'daytrading_buying_power': '0',\n",
       "    'equity': '1112.2',\n",
       "    'id': UUID('815ffacb-ddbe-4abf-b5d2-cd9c79b80b53'),\n",
       "    'initial_margin': '1006.72',\n",
       "    'last_equity': '1113.35933514236',\n",
       "    'last_maintenance_margin': '337.16',\n",
       "    'long_market_value': '1006.72',\n",
       "    'maintenance_margin': '336.96',\n",
       "    'multiplier': '1',\n",
       "    'non_marginable_buying_power': '105.48',\n",
       "    'options_approved_level': None,\n",
       "    'options_buying_power': None,\n",
       "    'options_trading_level': None,\n",
       "    'pattern_day_trader': False,\n",
       "    'pending_transfer_in': None,\n",
       "    'pending_transfer_out': None,\n",
       "    'portfolio_value': '1112.2',\n",
       "    'regt_buying_power': '105.48',\n",
       "    'short_market_value': '0',\n",
       "    'shorting_enabled': False,\n",
       "    'sma': '1109.01',\n",
       "    'status': <AccountStatus.ACTIVE: 'ACTIVE'>,\n",
       "    'trade_suspended_by_user': False,\n",
       "    'trading_blocked': False,\n",
       "    'transfers_blocked': False}"
      ]
     },
     "execution_count": 1,
     "metadata": {},
     "output_type": "execute_result"
    }
   ],
   "source": [
    "from alpaca.trading.client import TradingClient\n",
    "from dotenv import load_dotenv\n",
    "import os\n",
    "\n",
    "load_dotenv()\n",
    "print(os.environ.get(\"ALPACA_KEY\"))\n",
    "\n",
    "client = TradingClient(os.environ.get(\"ALPACA_KEY\"), os.environ.get(\"ALPACA_SECRET\"), paper=False)\n",
    "account = client.get_account()\n",
    "account"
   ]
  },
  {
   "cell_type": "code",
   "execution_count": null,
   "metadata": {},
   "outputs": [],
   "source": []
  },
  {
   "cell_type": "code",
   "execution_count": null,
   "metadata": {},
   "outputs": [],
   "source": []
  }
 ],
 "metadata": {
  "kernelspec": {
   "display_name": "venv",
   "language": "python",
   "name": "python3"
  },
  "language_info": {
   "codemirror_mode": {
    "name": "ipython",
    "version": 3
   },
   "file_extension": ".py",
   "mimetype": "text/x-python",
   "name": "python",
   "nbconvert_exporter": "python",
   "pygments_lexer": "ipython3",
   "version": "3.12.7"
  }
 },
 "nbformat": 4,
 "nbformat_minor": 2
}
