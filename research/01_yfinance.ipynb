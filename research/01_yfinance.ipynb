{
 "cells": [
  {
   "cell_type": "code",
   "execution_count": 1,
   "id": "2694f575",
   "metadata": {},
   "outputs": [],
   "source": [
    "import yfinance as yf\n",
    "import time\n",
    "import pandas as pd\n",
    "from datetime import datetime, timedelta\n",
    "\n",
    "import sys\n",
    "sys.path.append(\"../\")\n",
    "from config.settings import config\n",
    "from features.feature_engine import AdvancedFeatureEngine\n",
    "from backend.alpaca.sdk.clients import AlpacaDataConnector\n"
   ]
  },
  {
   "cell_type": "code",
   "execution_count": 2,
   "id": "3131f60f",
   "metadata": {},
   "outputs": [],
   "source": [
    "def get_market_context_data(self, index, benchmark='SPY'):\n",
    "    \"\"\"Fetches benchmark data (e.g., SPY) for the given time index.\"\"\"\n",
    "    try:\n",
    "        time.sleep(1)\n",
    "\n",
    "        market_data = yf.download(benchmark, start=index.min(), end=index.max(), progress=False)\n",
    "        if not market_data.empty:\n",
    "            print(f\"Downloaded benchmark data for {benchmark} from {index.min()} to {index.max()}\")\n",
    "            market_data.index = market_data.index.tz_localize(None)\n",
    "        return market_data\n",
    "    except Exception as e:\n",
    "        print(f\"ERROR downloading benchmark data: {e}\") # Added a print for visibility\n",
    "        return None"
   ]
  },
  {
   "cell_type": "code",
   "execution_count": 3,
   "id": "ef682db0",
   "metadata": {},
   "outputs": [
    {
     "name": "stderr",
     "output_type": "stream",
     "text": [
      "Historical data client created\n"
     ]
    },
    {
     "name": "stdout",
     "output_type": "stream",
     "text": [
      "📊 Acquiring market context data (SPY)...\n"
     ]
    },
    {
     "data": {
      "text/plain": [
       "('2024-01-22 05:00:00', '2025-06-06 04:00:00')"
      ]
     },
     "execution_count": 3,
     "metadata": {},
     "output_type": "execute_result"
    }
   ],
   "source": [
    "\n",
    "\n",
    "data_connector = AlpacaDataConnector(config)\n",
    "market_data = await data_connector.get_historical_data(\n",
    "    symbols=config.SYMBOLS,\n",
    "    lookback_days=config.LOOKBACK_DAYS\n",
    ")\n",
    "\n",
    "print(\"📊 Acquiring market context data (SPY)...\")\n",
    "feature_engine = AdvancedFeatureEngine()\n",
    "# Get a union of all dates from the data we already downloaded\n",
    "all_dates = pd.DatetimeIndex([])\n",
    "for df in market_data.values():\n",
    "    all_dates = all_dates.union(df.index)\n",
    "\n",
    "str(all_dates[0]), str(all_dates[-1])\n"
   ]
  },
  {
   "cell_type": "code",
   "execution_count": 4,
   "id": "38b9d75b",
   "metadata": {},
   "outputs": [
    {
     "data": {
      "text/plain": [
       "{'SPY':                         open     high       low   close      volume  \\\n",
       " timestamp                                                             \n",
       " 2024-01-22 05:00:00  484.010  485.220  482.7800  483.45  76044931.0   \n",
       " 2024-01-23 05:00:00  484.010  485.105  482.8900  484.86  49945297.0   \n",
       " 2024-01-24 05:00:00  487.810  488.770  484.8819  485.39  81765039.0   \n",
       " 2024-01-25 05:00:00  487.575  488.305  485.3900  488.03  72524989.0   \n",
       " 2024-01-26 05:00:00  487.590  489.120  486.5400  487.41  76641609.0   \n",
       " ...                      ...      ...       ...     ...         ...   \n",
       " 2025-06-02 04:00:00  587.760  592.790  585.0600  592.71  61630502.0   \n",
       " 2025-06-03 04:00:00  592.340  597.080  591.8500  596.09  63606204.0   \n",
       " 2025-06-04 04:00:00  596.960  597.950  595.4900  595.93  57314199.0   \n",
       " 2025-06-05 04:00:00  597.630  599.000  591.0500  593.05  92436397.0   \n",
       " 2025-06-06 04:00:00  598.660  600.830  596.8600  599.14  66588743.0   \n",
       " \n",
       "                      trade_count        vwap  \n",
       " timestamp                                     \n",
       " 2024-01-22 05:00:00     548090.0  483.922932  \n",
       " 2024-01-23 05:00:00     388977.0  484.009969  \n",
       " 2024-01-24 05:00:00     621290.0  486.911110  \n",
       " 2024-01-25 05:00:00     546403.0  487.022632  \n",
       " 2024-01-26 05:00:00     480277.0  487.732215  \n",
       " ...                          ...         ...  \n",
       " 2025-06-02 04:00:00     728812.0  589.874707  \n",
       " 2025-06-03 04:00:00     690792.0  595.238267  \n",
       " 2025-06-04 04:00:00     629200.0  596.938002  \n",
       " 2025-06-05 04:00:00     944088.0  595.168768  \n",
       " 2025-06-06 04:00:00     768591.0  599.222242  \n",
       " \n",
       " [346 rows x 7 columns]}"
      ]
     },
     "execution_count": 4,
     "metadata": {},
     "output_type": "execute_result"
    }
   ],
   "source": [
    "spy_data = await data_connector.get_historical_data(\n",
    "    symbols=['SPY'],\n",
    "    lookback_days=config.LOOKBACK_DAYS\n",
    ")\n",
    "\n",
    "spy_data\n"
   ]
  },
  {
   "cell_type": "code",
   "execution_count": null,
   "id": "447ce012",
   "metadata": {},
   "outputs": [
    {
     "data": {
      "text/html": [
       "<div>\n",
       "<style scoped>\n",
       "    .dataframe tbody tr th:only-of-type {\n",
       "        vertical-align: middle;\n",
       "    }\n",
       "\n",
       "    .dataframe tbody tr th {\n",
       "        vertical-align: top;\n",
       "    }\n",
       "\n",
       "    .dataframe thead th {\n",
       "        text-align: right;\n",
       "    }\n",
       "</style>\n",
       "<table border=\"1\" class=\"dataframe\">\n",
       "  <thead>\n",
       "    <tr style=\"text-align: right;\">\n",
       "      <th></th>\n",
       "      <th>Open</th>\n",
       "      <th>High</th>\n",
       "      <th>Low</th>\n",
       "      <th>Close</th>\n",
       "      <th>Volume</th>\n",
       "    </tr>\n",
       "    <tr>\n",
       "      <th>Date</th>\n",
       "      <th></th>\n",
       "      <th></th>\n",
       "      <th></th>\n",
       "      <th></th>\n",
       "      <th></th>\n",
       "    </tr>\n",
       "  </thead>\n",
       "  <tbody>\n",
       "    <tr>\n",
       "      <th>2025-06-02 00:00:00-04:00</th>\n",
       "      <td>587.760010</td>\n",
       "      <td>592.789978</td>\n",
       "      <td>585.059998</td>\n",
       "      <td>592.710022</td>\n",
       "      <td>61630500</td>\n",
       "    </tr>\n",
       "    <tr>\n",
       "      <th>2025-06-03 00:00:00-04:00</th>\n",
       "      <td>592.340027</td>\n",
       "      <td>597.080017</td>\n",
       "      <td>591.849976</td>\n",
       "      <td>596.090027</td>\n",
       "      <td>63606200</td>\n",
       "    </tr>\n",
       "    <tr>\n",
       "      <th>2025-06-04 00:00:00-04:00</th>\n",
       "      <td>596.960022</td>\n",
       "      <td>597.950012</td>\n",
       "      <td>595.489990</td>\n",
       "      <td>595.929993</td>\n",
       "      <td>57314200</td>\n",
       "    </tr>\n",
       "    <tr>\n",
       "      <th>2025-06-05 00:00:00-04:00</th>\n",
       "      <td>597.630005</td>\n",
       "      <td>599.000000</td>\n",
       "      <td>591.049988</td>\n",
       "      <td>593.049988</td>\n",
       "      <td>92278700</td>\n",
       "    </tr>\n",
       "    <tr>\n",
       "      <th>2025-06-06 00:00:00-04:00</th>\n",
       "      <td>598.659973</td>\n",
       "      <td>600.830017</td>\n",
       "      <td>596.859985</td>\n",
       "      <td>599.140015</td>\n",
       "      <td>66525400</td>\n",
       "    </tr>\n",
       "  </tbody>\n",
       "</table>\n",
       "</div>"
      ],
      "text/plain": [
       "                                 Open        High         Low       Close  \\\n",
       "Date                                                                        \n",
       "2025-06-02 00:00:00-04:00  587.760010  592.789978  585.059998  592.710022   \n",
       "2025-06-03 00:00:00-04:00  592.340027  597.080017  591.849976  596.090027   \n",
       "2025-06-04 00:00:00-04:00  596.960022  597.950012  595.489990  595.929993   \n",
       "2025-06-05 00:00:00-04:00  597.630005  599.000000  591.049988  593.049988   \n",
       "2025-06-06 00:00:00-04:00  598.659973  600.830017  596.859985  599.140015   \n",
       "\n",
       "                             Volume  \n",
       "Date                                 \n",
       "2025-06-02 00:00:00-04:00  61630500  \n",
       "2025-06-03 00:00:00-04:00  63606200  \n",
       "2025-06-04 00:00:00-04:00  57314200  \n",
       "2025-06-05 00:00:00-04:00  92278700  \n",
       "2025-06-06 00:00:00-04:00  66525400  "
      ]
     },
     "execution_count": 9,
     "metadata": {},
     "output_type": "execute_result"
    }
   ],
   "source": [
    "spy = yf.Ticker(\"SPY\")\n",
    "df = spy.history(\n",
    "    start=datetime.now() - timedelta(days=7),\n",
    "    end=datetime.now(),\n",
    "    interval=\"1h\",\n",
    "    actions=False\n",
    ")\n",
    "df"
   ]
  },
  {
   "cell_type": "code",
   "execution_count": null,
   "id": "710030c0",
   "metadata": {},
   "outputs": [],
   "source": []
  }
 ],
 "metadata": {
  "kernelspec": {
   "display_name": "venv",
   "language": "python",
   "name": "python3"
  },
  "language_info": {
   "codemirror_mode": {
    "name": "ipython",
    "version": 3
   },
   "file_extension": ".py",
   "mimetype": "text/x-python",
   "name": "python",
   "nbconvert_exporter": "python",
   "pygments_lexer": "ipython3",
   "version": "3.13.3"
  }
 },
 "nbformat": 4,
 "nbformat_minor": 5
}
