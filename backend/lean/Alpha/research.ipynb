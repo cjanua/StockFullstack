{
    "cells": [
        {
            "cell_type": "markdown",
            "metadata": {},
            "source": [
                "![QuantConnect Logo](https://cdn.quantconnect.com/web/i/icon.png)\n",
                "<hr>"
            ]
        },
        {
            "cell_type": "code",
            "execution_count": 4,
            "metadata": {},
            "outputs": [
                {
                    "ename": "NameError",
                    "evalue": "name 'QuantBook' is not defined",
                    "output_type": "error",
                    "traceback": [
                        "\u001b[0;31m---------------------------------------------------------------------------\u001b[0m",
                        "\u001b[0;31mNameError\u001b[0m                                 Traceback (most recent call last)",
                        "Cell \u001b[0;32mIn[4], line 5\u001b[0m\n\u001b[1;32m      1\u001b[0m \u001b[38;5;28;01mfrom\u001b[39;00m\u001b[38;5;250m \u001b[39m\u001b[38;5;21;01mAlgorithmImports\u001b[39;00m\u001b[38;5;250m \u001b[39m\u001b[38;5;28;01mimport\u001b[39;00m \u001b[38;5;241m*\u001b[39m\n\u001b[1;32m      3\u001b[0m \u001b[38;5;66;03m# QuantBook Analysis Tool \u001b[39;00m\n\u001b[1;32m      4\u001b[0m \u001b[38;5;66;03m# For more information see [https://www.quantconnect.com/docs/v2/our-platform/research/getting-started]\u001b[39;00m\n\u001b[0;32m----> 5\u001b[0m qb \u001b[38;5;241m=\u001b[39m \u001b[43mQuantBook\u001b[49m()\n\u001b[1;32m      6\u001b[0m spy \u001b[38;5;241m=\u001b[39m qb\u001b[38;5;241m.\u001b[39madd_equity(\u001b[38;5;124m\"\u001b[39m\u001b[38;5;124mSPY\u001b[39m\u001b[38;5;124m\"\u001b[39m)\n\u001b[1;32m      7\u001b[0m \u001b[38;5;66;03m# Locally Lean installs free sample data, to download more data please visit https://www.quantconnect.com/docs/v2/lean-cli/datasets/downloading-data \u001b[39;00m\n",
                        "\u001b[0;31mNameError\u001b[0m: name 'QuantBook' is not defined"
                    ]
                }
            ],
            "source": [
                "\n",
                "from AlgorithmImports import *\n",
                "\n",
                "# QuantBook Analysis Tool \n",
                "# For more information see [https://www.quantconnect.com/docs/v2/our-platform/research/getting-started]\n",
                "qb = QuantBook()\n",
                "spy = qb.add_equity(\"SPY\")\n",
                "# Locally Lean installs free sample data, to download more data please visit https://www.quantconnect.com/docs/v2/lean-cli/datasets/downloading-data \n",
                "qb.set_start_date(2013, 10, 11)\n",
                "history = qb.history(qb.securities.keys(), 360, Resolution.DAILY)\n",
                "\n",
                "# Indicator Analysis\n",
                "bbdf = qb.indicator(BollingerBands(30, 2), spy.symbol, 360, Resolution.DAILY)\n",
                "bbdf.drop('standarddeviation', axis=1).plot()"
            ]
        }
    ],
    "metadata": {
        "kernelspec": {
            "display_name": "venv",
            "language": "python",
            "name": "python3"
        },
        "language_info": {
            "codemirror_mode": {
                "name": "ipython",
                "version": 3
            },
            "file_extension": ".py",
            "mimetype": "text/x-python",
            "name": "python",
            "nbconvert_exporter": "python",
            "pygments_lexer": "ipython3",
            "version": "3.13.1"
        }
    },
    "nbformat": 4,
    "nbformat_minor": 2
}
