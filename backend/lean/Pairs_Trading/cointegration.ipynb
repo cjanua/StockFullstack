{
 "cells": [
  {
   "cell_type": "markdown",
   "metadata": {
    "pycharm": {
     "name": "#%% md\n"
    }
   },
   "source": [
    "![QuantConnect Logo](https://cdn.quantconnect.com/web/i/icon.png)\n",
    "<hr>"
   ]
  },
  {
   "cell_type": "code",
   "execution_count": null,
   "metadata": {
    "pycharm": {
     "name": "#%%\n"
    }
   },
   "outputs": [],
   "source": [
    "# Import required libraries\n",
    "from datetime import datetime\n",
    "from AlgorithmImports import *\n",
    "\n",
    "from statsmodels.tsa.stattools import coint, adfuller\n",
    "from scipy.stats import linregress\n",
    "import pandas as pd\n",
    "import matplotlib.pyplot as plt\n",
    "\n",
    "# Configuration\n",
    "START_DATE = datetime(2000, 1, 1)\n",
    "END_DATE = datetime(2025, 1, 1)\n",
    "TICKERS = [\n",
    "    'SPY', 'SPXS', 'SPXL', 'IVV', 'VOO', 'VIX', # SPY\n",
    "    'VXX', 'UVXY', 'TVIX', # Volatility Index\n",
    "    'QQQ', 'TQQQ', 'SQQQ',  # NASDAQ\n",
    "    'IWM', 'URTY', 'SRTY', # Russell 2000\n",
    "    'EEM', 'EDZ', 'VWO', # Emerging Markets\n",
    "    'DIA', 'TLT', 'UPRO', # Dow Jones ?\n",
    "    'GLD', 'GDX', # Gold\n",
    "    'XME', 'COPX', 'JJC', 'SIL', 'SLV', # Metals\n",
    "    'CORN', 'DE', 'SOYB', 'WEAT', # Agriculture\n",
    "    'ETC', 'ETH', # Ethereum\n",
    "    'XLF', 'KBE', # Financials\n",
    "    'KO', 'PEP', # Beverages\n",
    "    'MCD', 'WEN', 'YUM', # Fast Food\n",
    "    'XOM', 'USO', 'XLE', 'OIH', # Oil\n",
    "    'EWA', 'EWC', # Canada / Australia\n",
    "    'FXE', 'FXB', # Euro / Pound\n",
    "    'FXI', 'ASHR', 'BABA', # China\n",
    "    'TSM', 'AMD', 'ASXLS', # Semiconductors\n",
    "    'TSLA', 'F', 'GM', 'RIVN', # Auto\n",
    "    'EWG', 'DAX', 'BMW', 'VOW3', # Germany\n",
    "    'UUP', 'EUO', # USD / Euro\n",
    "]\n",
    "COINTEGRATION_PVALUE_THRESHOLD = 0.05\n",
    "MIN_HISTORY_DAYS = 360\n",
    "\n",
    "qb = QuantBook()\n",
    "\n",
    "def calculate_hedge_ratio(y, x):\n",
    "    \"\"\"Calculate hedge ratio using linear regression\"\"\"\n",
    "    slope, intercept, _, _, _ = linregress(x, y)\n",
    "    return slope\n",
    "\n",
    "def test_cointegration(series1, series2):\n",
    "    \"\"\"Test cointegration between two price series\"\"\"\n",
    "    hedge_ratio = calculate_hedge_ratio(series1, series2)\n",
    "    spread = series1 - (hedge_ratio * series2)\n",
    "    _, pvalue, _ = coint(series1, series2)\n",
    "    return pvalue, hedge_ratio, spread\n",
    "\n",
    "# Get historical data\n",
    "symbols = [qb.add_equity(ticker).Symbol for ticker in TICKERS]\n"
   ]
  },
  {
   "cell_type": "code",
   "execution_count": 11,
   "metadata": {},
   "outputs": [],
   "source": [
    "history = qb.history(symbols, START_DATE, END_DATE, Resolution.DAILY)\n",
    "\n",
    "history_unstacked = history.unstack(level=0)\n",
    "\n",
    "closing_prices = history_unstacked['close'].dropna(axis=1)\n",
    "\n",
    "\n",
    "# Filter symbols with sufficient history\n",
    "valid_symbols = [s for s in TICKERS if s in closing_prices.columns]\n",
    "history = closing_prices[valid_symbols]\n",
    "print(history.columns)\n",
    "print(history.head())\n",
    "print(history.tail())\n",
    "\n"
   ]
  },
  {
   "cell_type": "code",
   "execution_count": 12,
   "metadata": {},
   "outputs": [],
   "source": [
    "# Generate all possible pairs\n",
    "pairs = []\n",
    "cointegrated_pairs = []\n",
    "\n",
    "for i in range(len(valid_symbols)):\n",
    "    for j in range(i+1, len(valid_symbols)):\n",
    "        sym1 = valid_symbols[i]\n",
    "        sym2 = valid_symbols[j]\n",
    "        pairs.append((sym1, sym2))\n",
    "\n",
    "# Test cointegration for each pair\n",
    "results = []\n",
    "for sym1, sym2 in pairs:\n",
    "    try:\n",
    "        series1 = history[sym1]\n",
    "        series2 = history[sym2]\n",
    "\n",
    "        print(f\"Testing cointegration between {sym1} and {sym2}\")\n",
    "        # Ensure minimum data length\n",
    "        if len(series1) < MIN_HISTORY_DAYS or len(series2) < MIN_HISTORY_DAYS:\n",
    "            continue\n",
    "\n",
    "        pvalue, hedge_ratio, spread = test_cointegration(series1, series2)\n",
    "\n",
    "        print(f\"p-value: {pvalue}, Hedge Ratio: {hedge_ratio}\")\n",
    "        results.append({\n",
    "            'Pair': f\"{sym1}-{sym2}\",\n",
    "            'PValue': pvalue,\n",
    "            'HedgeRatio': hedge_ratio,\n",
    "            'ADF_Statistic': adfuller(spread)[0],\n",
    "            'Spread_Mean': spread.mean(),\n",
    "            'Spread_Std': spread.std()\n",
    "        })\n",
    "\n",
    "        if pvalue < COINTEGRATION_PVALUE_THRESHOLD:\n",
    "            cointegrated_pairs.append((sym1, sym2))\n",
    "\n",
    "    except Exception as e:\n",
    "        print(f\"Error processing {sym1}-{sym2}: {str(e)}\")\n",
    "        continue\n",
    "\n",
    "# Create results DataFrame\n",
    "results_df = pd.DataFrame(results).sort_values('PValue')\n",
    "\n",
    "# Display significant pairs\n",
    "print(f\"Found {len(cointegrated_pairs)} cointegrated pairs (p < {COINTEGRATION_PVALUE_THRESHOLD}):\")\n",
    "display(results_df[results_df.PValue < COINTEGRATION_PVALUE_THRESHOLD ])\n"
   ]
  },
  {
   "cell_type": "code",
   "execution_count": null,
   "metadata": {},
   "outputs": [],
   "source": [
    "# Visualize All pairs\n",
    "for sym1, sym2 in cointegrated_pairs:\n",
    "    spread = history[sym1] - (results_df.loc[results_df.Pair == f\"{sym1}-{sym2}\"].iloc[0]['HedgeRatio'] * history[sym2])\n",
    "\n",
    "    plt.figure(figsize=(15, 7))\n",
    "    plt.title(f\"{sym1}-{sym2} Spread (Cointegrated) P: {results_df.loc[results_df.Pair == f'{sym1}-{sym2}'].iloc[0]['PValue']}\")\n",
    "    plt.plot(spread, label='Spread')\n",
    "    plt.axhline(spread.mean(), color='black', linestyle='--', label='Mean')\n",
    "    plt.axhline(spread.mean() + spread.std(), color='red', linestyle='--', label='±1 Std')\n",
    "    plt.axhline(spread.mean() - spread.std(), color='red', linestyle='--')\n",
    "    plt.legend()\n",
    "    plt.show()"
   ]
  },
  {
   "cell_type": "code",
   "execution_count": null,
   "metadata": {},
   "outputs": [],
   "source": []
  }
 ],
 "metadata": {
  "kernelspec": {
   "display_name": "Foundation-Py-Default",
   "language": "python",
   "name": "python3"
  }
 },
 "nbformat": 4,
 "nbformat_minor": 2
}